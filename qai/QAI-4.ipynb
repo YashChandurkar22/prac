{
 "cells": [
  {
   "cell_type": "code",
   "execution_count": 5,
   "id": "7ad40864-4f97-4276-9ee8-34066f956258",
   "metadata": {
    "tags": []
   },
   "outputs": [],
   "source": [
    "# Importing standard Qiskit libraries\n",
    "from qiskit import QuantumCircuit, transpile\n",
    "from qiskit.tools.jupyter import *\n",
    "from qiskit.visualization import *\n",
    "from ibm_quantum_widgets import *\n",
    "\n",
    "# qiskit-ibmq-provider has been deprecated.\n",
    "# Please see the Migration Guides in https://ibm.biz/provider_migration_guide for more detail.\n",
    "from qiskit_ibm_runtime import QiskitRuntimeService, Sampler, Estimator, Session, Options\n",
    "\n",
    "# Loading your IBM Quantum account(s)\n",
    "service = QiskitRuntimeService(channel=\"ibm_quantum\")\n",
    "\n",
    "# Invoke a primitive. For more details see https://qiskit.org/documentation/partners/qiskit_ibm_runtime/tutorials.html\n",
    "# result = Sampler(\"ibmq_qasm_simulator\").run(circuits).result()"
   ]
  },
  {
   "cell_type": "code",
   "execution_count": 6,
   "id": "09778658-180a-49d8-a080-45a52912d9e4",
   "metadata": {
    "tags": []
   },
   "outputs": [
    {
     "name": "stdout",
     "output_type": "stream",
     "text": [
      "      ┌─────────────────┐ ░            ░      ┌───┐ ░ ┌─┐                    \n",
      " q_0: ┤ Initialize(0,1) ├─░────────────░───■──┤ H ├─░─┤M├────────────────────\n",
      "      └─────────────────┘ ░ ┌───┐      ░ ┌─┴─┐└───┘ ░ └╥┘┌─┐                 \n",
      " q_1: ────────────────────░─┤ H ├──■───░─┤ X ├──────░──╫─┤M├─────────────────\n",
      "                          ░ └───┘┌─┴─┐ ░ └───┘      ░  ║ └╥┘ ┌───┐  ┌───┐ ┌─┐\n",
      " q_2: ────────────────────░──────┤ X ├─░────────────░──╫──╫──┤ X ├──┤ Z ├─┤M├\n",
      "                          ░      └───┘ ░            ░  ║  ║  └─╥─┘  └─╥─┘ └╥┘\n",
      "                                                       ║  ║    ║   ┌──╨──┐ ║ \n",
      "c0: 1/═════════════════════════════════════════════════╩══╬════╬═══╡ 0x1 ╞═╬═\n",
      "                                                       0  ║ ┌──╨──┐└─────┘ ║ \n",
      "c1: 1/════════════════════════════════════════════════════╩═╡ 0x1 ╞════════╬═\n",
      "                                                          0 └─────┘        ║ \n",
      "c2: 1/═════════════════════════════════════════════════════════════════════╩═\n",
      "                                                                           0 \n",
      "Teleported state: {'1 1 0': 1}\n"
     ]
    }
   ],
   "source": [
    "from qiskit import QuantumCircuit, QuantumRegister, ClassicalRegister, execute, Aer\n",
    "from qiskit.visualization import circuit_drawer\n",
    "\n",
    "# Create the quantum circuit with 3 qubits and 3 classical bits\n",
    "q = QuantumRegister(3, 'q')  # Quantum register\n",
    "c0 = ClassicalRegister(1, 'c0')  # Classical register for Alice's qubit\n",
    "c1 = ClassicalRegister(1, 'c1')  # Classical register for Bob's qubit\n",
    "c2 = ClassicalRegister(1, 'c2')  # Classical register for the result\n",
    "circuit = QuantumCircuit(q, c0, c1, c2)\n",
    "\n",
    "# Prepare the initial state to be teleported\n",
    "circuit.initialize([0, 1], q[0])  # Apply X gate to put in state |1>\n",
    "circuit.barrier()\n",
    "\n",
    "# Create an entanglement between Alice's and Bob's qubits\n",
    "circuit.h(q[1])\n",
    "circuit.cx(q[1], q[2])\n",
    "circuit.barrier()\n",
    "\n",
    "# Teleportation process\n",
    "circuit.cx(q[0], q[1])\n",
    "circuit.h(q[0])\n",
    "circuit.barrier()\n",
    "\n",
    "# Measure Alice's qubits and send the measurement results to Bob\n",
    "circuit.measure(q[0], c0[0])\n",
    "circuit.measure(q[1], c1[0])\n",
    "\n",
    "# Apply corrective operations on Bob's qubit based on the measurement results\n",
    "circuit.x(q[2]).c_if(c1, 1)\n",
    "circuit.z(q[2]).c_if(c0, 1)\n",
    "\n",
    "# Measure the teleported qubit\n",
    "circuit.measure(q[2], c2[0])\n",
    "\n",
    "# Visualize the circuit\n",
    "print(circuit)\n",
    "circuit_drawer(circuit, output='mpl')\n",
    "\n",
    "# Simulate the circuit using the QASM simulator\n",
    "simulator = Aer.get_backend('qasm_simulator')\n",
    "job = execute(circuit, simulator, shots=1)\n",
    "result = job.result()\n",
    "teleported_state = result.get_counts(circuit)\n",
    "\n",
    "# Print the teleported state\n",
    "print(\"Teleported state:\", teleported_state)\n"
   ]
  },
  {
   "cell_type": "code",
   "execution_count": 8,
   "id": "5ce0ef62-b877-45bd-aa35-8395043478b8",
   "metadata": {
    "tags": []
   },
   "outputs": [],
   "source": [
    "from qiskit import IBMQ\n",
    "\n",
    "# Load your IBM Quantum account(s)\n",
    "IBMQ.load_account()  # You may need to provide your IBM Quantum API token\n",
    "\n",
    "# Get the provider\n",
    "provider = IBMQ.get_provider(hub='ibm-q')"
   ]
  },
  {
   "cell_type": "code",
   "execution_count": 9,
   "id": "077972e5-391e-4851-be5c-65e6e702b693",
   "metadata": {
    "tags": []
   },
   "outputs": [
    {
     "name": "stdout",
     "output_type": "stream",
     "text": [
      "     ┌───┐┌──────┐┌─┐            \n",
      "q_0: ┤ X ├┤0     ├┤M├────────────\n",
      "     └───┘│      │└╥┘┌─┐         \n",
      "q_1: ─────┤1     ├─╫─┤M├─────────\n",
      "     ┌───┐│      │ ║ └╥┘┌─┐      \n",
      "q_2: ┤ X ├┤2 QFT ├─╫──╫─┤M├──────\n",
      "     └───┘│      │ ║  ║ └╥┘┌─┐   \n",
      "q_3: ─────┤3     ├─╫──╫──╫─┤M├───\n",
      "     ┌───┐│      │ ║  ║  ║ └╥┘┌─┐\n",
      "q_4: ┤ X ├┤4     ├─╫──╫──╫──╫─┤M├\n",
      "     └───┘└──────┘ ║  ║  ║  ║ └╥┘\n",
      "c: 5/══════════════╩══╩══╩══╩══╩═\n",
      "                   0  1  2  3  4 \n",
      "Job Status: job has successfully run\n",
      "\n",
      " QFT Output\n",
      "-------------\n",
      "{'00111': 28, '11011': 24, '01000': 28, '01111': 29, '00010': 33, '01100': 24, '10000': 25, '10101': 33, '11110': 30, '11100': 22, '00001': 35, '01101': 37, '11010': 30, '01011': 33, '00000': 25, '01010': 35, '10001': 30, '01110': 35, '10011': 32, '00110': 38, '00011': 23, '00100': 26, '10100': 40, '11101': 36, '11001': 31, '10111': 34, '11000': 37, '00101': 32, '01001': 38, '10110': 35, '11111': 29, '10010': 33}\n"
     ]
    }
   ],
   "source": [
    "from qiskit import QuantumRegister, ClassicalRegister\n",
    "from qiskit import QuantumCircuit, execute, IBMQ\n",
    "from qiskit.tools.monitor import job_monitor\n",
    "from qiskit.circuit.library import QFT\n",
    "import numpy as np\n",
    "\n",
    "pi = np.pi\n",
    "\n",
    "# provider = IBMQ.get_provider(hub='ibm-q')\n",
    "\n",
    "backend = provider.get_backend('ibmq_qasm_simulator')\n",
    "\n",
    "q = QuantumRegister(5,'q')\n",
    "c = ClassicalRegister(5,'c')\n",
    "\n",
    "circuit = QuantumCircuit(q,c)\n",
    "\n",
    "circuit.x(q[4])\n",
    "circuit.x(q[2])\n",
    "circuit.x(q[0])\n",
    "circuit.append(QFT(num_qubits=5, approximation_degree=0, do_swaps=True, inverse=False, insert_barriers=False), q)\n",
    "circuit.measure(q,c)\n",
    "circuit.draw(output='mpl', filename='qft1.png')\n",
    "print(circuit)\n",
    "\n",
    "job = execute(circuit, backend, shots=1000)\n",
    "\n",
    "job_monitor(job)\n",
    "\n",
    "counts = job.result().get_counts()\n",
    "\n",
    "print(\"\\n QFT Output\")\n",
    "print(\"-------------\")\n",
    "print(counts)\n"
   ]
  },
  {
   "cell_type": "code",
   "execution_count": null,
   "id": "fb3b0a23-d8e1-449d-ba47-8014bdba015d",
   "metadata": {
    "tags": []
   },
   "outputs": [
    {
     "name": "stdout",
     "output_type": "stream",
     "text": [
      "     ┌───┐┌──────┐┌─┐            \n",
      "q_0: ┤ X ├┤0     ├┤M├────────────\n",
      "     └───┘│      │└╥┘┌─┐         \n",
      "q_1: ─────┤1     ├─╫─┤M├─────────\n",
      "     ┌───┐│      │ ║ └╥┘┌─┐      \n",
      "q_2: ┤ X ├┤2 qft ├─╫──╫─┤M├──────\n",
      "     └───┘│      │ ║  ║ └╥┘┌─┐   \n",
      "q_3: ─────┤3     ├─╫──╫──╫─┤M├───\n",
      "     ┌───┐│      │ ║  ║  ║ └╥┘┌─┐\n",
      "q_4: ┤ X ├┤4     ├─╫──╫──╫──╫─┤M├\n",
      "     └───┘└──────┘ ║  ║  ║  ║ └╥┘\n",
      "c: 5/══════════════╩══╩══╩══╩══╩═\n",
      "                   0  1  2  3  4 \n",
      "Job Status: job has successfully run\n",
      "\n",
      " QFT Output\n",
      "-------------\n",
      "{'00110': 33, '01110': 39, '11100': 27, '11110': 28, '11010': 36, '10010': 29, '10110': 33, '11111': 22, '11011': 35, '11001': 32, '10111': 29, '11000': 30, '00001': 28, '01101': 30, '00111': 30, '00100': 28, '00011': 25, '01000': 33, '00000': 31, '01011': 38, '10011': 44, '00010': 33, '11101': 32, '10100': 28, '01111': 36, '10000': 36, '10101': 33, '00101': 42, '01001': 29, '01010': 26, '10001': 20, '01100': 25}\n"
     ]
    }
   ],
   "source": [
    "from qiskit import QuantumRegister, ClassicalRegister\n",
    "from qiskit import QuantumCircuit, execute,IBMQ\n",
    "from qiskit.tools.monitor import job_monitor\n",
    "from qiskit.circuit.library import QFT\n",
    "import numpy as np\n",
    "\n",
    "pi = np.pi\n",
    "\n",
    "\n",
    "provider = IBMQ.get_provider(hub='ibm-q')\n",
    "\n",
    "backend = provider.get_backend('ibmq_qasm_simulator')\n",
    "\n",
    "q = QuantumRegister(5,'q')\n",
    "c = ClassicalRegister(5,'c')\n",
    "\n",
    "circuit = QuantumCircuit(q,c)\n",
    "\n",
    "circuit.x(q[4])\n",
    "circuit.x(q[2])\n",
    "circuit.x(q[0])\n",
    "circuit.append(QFT(num_qubits=5, approximation_degree=0, do_swaps=True, inverse=False, insert_barriers=False, name='qft'), q)\n",
    "circuit.measure(q,c)\n",
    "circuit.draw(output='mpl', filename='qft1.png')\n",
    "print(circuit)\n",
    "\n",
    "job = execute(circuit, backend, shots=1000)\n",
    "\n",
    "job_monitor(job)\n",
    "\n",
    "counts = job.result().get_counts()\n",
    "\n",
    "print(\"\\n QFT Output\")\n",
    "print(\"-------------\")\n",
    "print(counts)\n",
    "input()\n",
    "\n",
    "q = QuantumRegister(5,'q')\n",
    "c = ClassicalRegister(5,'c')\n",
    "\n",
    "circuit = QuantumCircuit(q,c)\n",
    "\n",
    "circuit.x(q[4])\n",
    "circuit.x(q[2])\n",
    "circuit.x(q[0])\n",
    "circuit.append(QFT(num_qubits=5, approximation_degree=0, do_swaps=True, inverse=False, insert_barriers=False, name='qft'), q)\n",
    "circuit.measure(q,c)\n",
    "circuit.draw(output='mpl',filename='qft2.png')\n",
    "\n",
    "print(circuit)\n",
    "\n",
    "job = execute(circuit, backend, shots=1000)\n",
    "\n",
    "job_monitor(job)\n",
    "\n",
    "counts = job.result().get_counts()\n",
    "\n",
    "print(\"\\n QFT with inverse QFT Output\")\n",
    "print(\"------------------------------\")\n",
    "print(counts)\n",
    "input()"
   ]
  },
  {
   "cell_type": "code",
   "execution_count": null,
   "id": "cbae5bfd-b506-4d5f-877c-692e4cbd9009",
   "metadata": {},
   "outputs": [],
   "source": []
  }
 ],
 "metadata": {
  "kernelspec": {
   "display_name": "Python 3 (ipykernel)",
   "language": "python",
   "name": "python3"
  },
  "language_info": {
   "codemirror_mode": {
    "name": "ipython",
    "version": 3
   },
   "file_extension": ".py",
   "mimetype": "text/x-python",
   "name": "python",
   "nbconvert_exporter": "python",
   "pygments_lexer": "ipython3",
   "version": "3.10.8"
  },
  "widgets": {
   "application/vnd.jupyter.widget-state+json": {
    "state": {
     "01afd7028f85400ebb5e00029a7a5946": {
      "model_module": "@jupyter-widgets/controls",
      "model_module_version": "2.0.0",
      "model_name": "HTMLStyleModel",
      "state": {
       "description_width": "",
       "font_size": null,
       "text_color": null
      }
     },
     "0e138831c8c44ec3b61ea4727bebca87": {
      "model_module": "@jupyter-widgets/controls",
      "model_module_version": "2.0.0",
      "model_name": "ButtonModel",
      "state": {
       "icon": "close",
       "layout": "IPY_MODEL_d4b8ee7daf7e4cc8aad84bffe67ee65c",
       "style": "IPY_MODEL_8219c539f53c44508741d3762912b931",
       "tooltip": null
      }
     },
     "1375ae2ef10745dd9958771e73967597": {
      "model_module": "@jupyter-widgets/controls",
      "model_module_version": "2.0.0",
      "model_name": "HTMLModel",
      "state": {
       "layout": "IPY_MODEL_50e3c9f4cc984dc9a0705457ba02c915",
       "style": "IPY_MODEL_ae94bd1dc4154c62a1f43d281a5cebd1",
       "value": "<p style='font-family: IBM Plex Sans, Arial, Helvetica, sans-serif; font-size: 20px; font-weight: medium;'>Circuit Properties</p>"
      }
     },
     "1c5bc5ca2b614c019139dce60e87fac9": {
      "model_module": "@jupyter-widgets/base",
      "model_module_version": "2.0.0",
      "model_name": "LayoutModel",
      "state": {
       "width": "190px"
      }
     },
     "1ded0466b3554c8ca2c4c002456dd1da": {
      "model_module": "@jupyter-widgets/controls",
      "model_module_version": "2.0.0",
      "model_name": "ButtonModel",
      "state": {
       "icon": "close",
       "layout": "IPY_MODEL_8241f7a1312744628b785af78db0b976",
       "style": "IPY_MODEL_cff65c3745bd4a5dbc1c6618e61ee56a",
       "tooltip": null
      }
     },
     "282752ba0c7f40f49ed7d41349815ff4": {
      "model_module": "@jupyter-widgets/controls",
      "model_module_version": "2.0.0",
      "model_name": "HTMLStyleModel",
      "state": {
       "description_width": "",
       "font_size": null,
       "text_color": null
      }
     },
     "3b2aa73e342a487baf95408edcff4705": {
      "model_module": "@jupyter-widgets/controls",
      "model_module_version": "2.0.0",
      "model_name": "HTMLModel",
      "state": {
       "layout": "IPY_MODEL_fca0644e71004c29ade07ba156055fe1",
       "style": "IPY_MODEL_572b253039034a53a7cef7bc4865707b",
       "value": "DONE"
      }
     },
     "42d866dcc9c1422784e548a7be0c06e6": {
      "model_module": "@jupyter-widgets/base",
      "model_module_version": "2.0.0",
      "model_name": "LayoutModel",
      "state": {}
     },
     "44ca33e39b5b48ff919d634ea25346b0": {
      "model_module": "@jupyter-widgets/controls",
      "model_module_version": "2.0.0",
      "model_name": "HTMLModel",
      "state": {
       "layout": "IPY_MODEL_42d866dcc9c1422784e548a7be0c06e6",
       "style": "IPY_MODEL_a3a59e771bba46c2886cfb5e9feacea0",
       "value": "<p style=white-space:nowrap;>job has successfully run</p>"
      }
     },
     "4c1b68b698df47fe974385012ba67c34": {
      "model_module": "@jupyter-widgets/base",
      "model_module_version": "2.0.0",
      "model_name": "LayoutModel",
      "state": {
       "width": "70px"
      }
     },
     "50e3c9f4cc984dc9a0705457ba02c915": {
      "model_module": "@jupyter-widgets/base",
      "model_module_version": "2.0.0",
      "model_name": "LayoutModel",
      "state": {
       "margin": "0px 0px 10px 0px"
      }
     },
     "5134310931c741289cbf787a964d9f87": {
      "model_module": "@jupyter-widgets/controls",
      "model_module_version": "2.0.0",
      "model_name": "HTMLStyleModel",
      "state": {
       "description_width": "",
       "font_size": null,
       "text_color": null
      }
     },
     "52f9db20224e4d918a3739518b028680": {
      "model_module": "@jupyter-widgets/controls",
      "model_module_version": "2.0.0",
      "model_name": "HTMLStyleModel",
      "state": {
       "description_width": "",
       "font_size": null,
       "text_color": null
      }
     },
     "55a462333af94235932f7ba095039d8e": {
      "model_module": "@jupyter-widgets/controls",
      "model_module_version": "2.0.0",
      "model_name": "HTMLStyleModel",
      "state": {
       "description_width": "",
       "font_size": null,
       "text_color": null
      }
     },
     "572b253039034a53a7cef7bc4865707b": {
      "model_module": "@jupyter-widgets/controls",
      "model_module_version": "2.0.0",
      "model_name": "HTMLStyleModel",
      "state": {
       "description_width": "",
       "font_size": null,
       "text_color": null
      }
     },
     "5ae2d34ad119406fa892893c346daa63": {
      "model_module": "@jupyter-widgets/base",
      "model_module_version": "2.0.0",
      "model_name": "LayoutModel",
      "state": {
       "max_width": "700px",
       "min_width": "700px"
      }
     },
     "5bd6d951a8c648f992172ccb6cc71796": {
      "model_module": "@jupyter-widgets/base",
      "model_module_version": "2.0.0",
      "model_name": "LayoutModel",
      "state": {
       "width": "70px"
      }
     },
     "5e35152eff96482e89571440b7fc476b": {
      "model_module": "@jupyter-widgets/base",
      "model_module_version": "2.0.0",
      "model_name": "LayoutModel",
      "state": {
       "width": "145px"
      }
     },
     "5fe3e93a0ee24669b586de2f62586ef3": {
      "model_module": "@jupyter-widgets/controls",
      "model_module_version": "2.0.0",
      "model_name": "HTMLModel",
      "state": {
       "layout": "IPY_MODEL_9f3c8fe21a0c4658aa94bfab694e8dfe",
       "style": "IPY_MODEL_5134310931c741289cbf787a964d9f87",
       "value": "job has successfully run"
      }
     },
     "61eba60b5c844e90aacdf7af4d30b649": {
      "model_module": "@jupyter-widgets/controls",
      "model_module_version": "2.0.0",
      "model_name": "HTMLModel",
      "state": {
       "layout": "IPY_MODEL_8912519d47104ca281c5581daa86dc71",
       "style": "IPY_MODEL_b9a0b113b0964cab81566ad5756a5ab2",
       "value": "<h5>Queue</h5>"
      }
     },
     "6754a3d2641b4d5e97c8777b9ff9e621": {
      "model_module": "@jupyter-widgets/controls",
      "model_module_version": "2.0.0",
      "model_name": "HBoxModel",
      "state": {
       "children": [
        "IPY_MODEL_1ded0466b3554c8ca2c4c002456dd1da",
        "IPY_MODEL_fd3b215acaa34a98843d957893ef224b",
        "IPY_MODEL_c48ad9a2f8994cf9ac86340a289fabe7",
        "IPY_MODEL_3b2aa73e342a487baf95408edcff4705",
        "IPY_MODEL_8495bdff66dc402d98ee707650e79d74",
        "IPY_MODEL_44ca33e39b5b48ff919d634ea25346b0"
       ],
       "layout": "IPY_MODEL_f24d9da63862476d898cd7870f6941f9"
      }
     },
     "676b33c962854793acf02d6694bc06d6": {
      "model_module": "@jupyter-widgets/controls",
      "model_module_version": "2.0.0",
      "model_name": "HTMLStyleModel",
      "state": {
       "description_width": "",
       "font_size": null,
       "text_color": null
      }
     },
     "6df0ea8abd6f45f294b76f38b7e7a424": {
      "model_module": "@jupyter-widgets/controls",
      "model_module_version": "2.0.0",
      "model_name": "HTMLModel",
      "state": {
       "layout": "IPY_MODEL_4c1b68b698df47fe974385012ba67c34",
       "style": "IPY_MODEL_676b33c962854793acf02d6694bc06d6",
       "value": "-"
      }
     },
     "702a8ccf04314bfc86e92a1a883d6cf2": {
      "model_module": "@jupyter-widgets/controls",
      "model_module_version": "2.0.0",
      "model_name": "ButtonModel",
      "state": {
       "button_style": "primary",
       "description": "Clear",
       "layout": "IPY_MODEL_81c80e001dbe40d9b6c97e89b0412036",
       "style": "IPY_MODEL_8bc8a8a733f94bfa843c8427743fd5f1",
       "tooltip": null
      }
     },
     "7972c14ee1614af8ab97a9106e6340c3": {
      "model_module": "@jupyter-widgets/controls",
      "model_module_version": "2.0.0",
      "model_name": "HTMLStyleModel",
      "state": {
       "description_width": "",
       "font_size": null,
       "text_color": null
      }
     },
     "81c80e001dbe40d9b6c97e89b0412036": {
      "model_module": "@jupyter-widgets/base",
      "model_module_version": "2.0.0",
      "model_name": "LayoutModel",
      "state": {
       "grid_area": "right",
       "padding": "0px 0px 0px 0px",
       "width": "70px"
      }
     },
     "8219c539f53c44508741d3762912b931": {
      "model_module": "@jupyter-widgets/controls",
      "model_module_version": "2.0.0",
      "model_name": "ButtonStyleModel",
      "state": {
       "button_color": "white",
       "font_family": null,
       "font_size": null,
       "font_style": null,
       "font_variant": null,
       "font_weight": null,
       "text_color": null,
       "text_decoration": null
      }
     },
     "8241f7a1312744628b785af78db0b976": {
      "model_module": "@jupyter-widgets/base",
      "model_module_version": "2.0.0",
      "model_name": "LayoutModel",
      "state": {
       "margin": "0px 5px 0px 0px",
       "width": "32px"
      }
     },
     "8495bdff66dc402d98ee707650e79d74": {
      "model_module": "@jupyter-widgets/controls",
      "model_module_version": "2.0.0",
      "model_name": "HTMLModel",
      "state": {
       "layout": "IPY_MODEL_5bd6d951a8c648f992172ccb6cc71796",
       "style": "IPY_MODEL_01afd7028f85400ebb5e00029a7a5946",
       "value": "-"
      }
     },
     "8912519d47104ca281c5581daa86dc71": {
      "model_module": "@jupyter-widgets/base",
      "model_module_version": "2.0.0",
      "model_name": "LayoutModel",
      "state": {
       "width": "70px"
      }
     },
     "8bc8a8a733f94bfa843c8427743fd5f1": {
      "model_module": "@jupyter-widgets/controls",
      "model_module_version": "2.0.0",
      "model_name": "ButtonStyleModel",
      "state": {
       "font_family": null,
       "font_size": null,
       "font_style": null,
       "font_variant": null,
       "font_weight": null,
       "text_color": null,
       "text_decoration": null
      }
     },
     "8c657793adbc4d43a0e50e0384fed12d": {
      "model_module": "@jupyter-widgets/controls",
      "model_module_version": "2.0.0",
      "model_name": "HTMLModel",
      "state": {
       "layout": "IPY_MODEL_1c5bc5ca2b614c019139dce60e87fac9",
       "style": "IPY_MODEL_55a462333af94235932f7ba095039d8e",
       "value": "cklvgc3gl0ct1nos876g"
      }
     },
     "9e49c828e0cc4afbb36654cfe87cc4f5": {
      "model_module": "@jupyter-widgets/controls",
      "model_module_version": "2.0.0",
      "model_name": "HTMLModel",
      "state": {
       "layout": "IPY_MODEL_c971d5b621914b4db11b9f5fadd54640",
       "style": "IPY_MODEL_282752ba0c7f40f49ed7d41349815ff4",
       "value": "<h5>Backend</h5>"
      }
     },
     "9f3c8fe21a0c4658aa94bfab694e8dfe": {
      "model_module": "@jupyter-widgets/base",
      "model_module_version": "2.0.0",
      "model_name": "LayoutModel",
      "state": {}
     },
     "a1216c02299b4462a9d8b9aeed2f1fb0": {
      "model_module": "@jupyter-widgets/controls",
      "model_module_version": "2.0.0",
      "model_name": "HTMLStyleModel",
      "state": {
       "description_width": "",
       "font_size": null,
       "text_color": null
      }
     },
     "a3a59e771bba46c2886cfb5e9feacea0": {
      "model_module": "@jupyter-widgets/controls",
      "model_module_version": "2.0.0",
      "model_name": "HTMLStyleModel",
      "state": {
       "description_width": "",
       "font_size": null,
       "text_color": null
      }
     },
     "a46183ebb32040519038dc5f17dc470e": {
      "model_module": "@jupyter-widgets/base",
      "model_module_version": "2.0.0",
      "model_name": "LayoutModel",
      "state": {
       "width": "190px"
      }
     },
     "a9337111d3cc4f9fa67ba5413cf36076": {
      "model_module": "@jupyter-widgets/base",
      "model_module_version": "2.0.0",
      "model_name": "LayoutModel",
      "state": {
       "grid_template_areas": "\n                                       \". . . . right \"\n                                        ",
       "grid_template_columns": "20% 20% 20% 20% 20%",
       "width": "100%"
      }
     },
     "ae94bd1dc4154c62a1f43d281a5cebd1": {
      "model_module": "@jupyter-widgets/controls",
      "model_module_version": "2.0.0",
      "model_name": "HTMLStyleModel",
      "state": {
       "description_width": "",
       "font_size": null,
       "text_color": null
      }
     },
     "b725b63a030641f7833ac0df43e00914": {
      "model_module": "@jupyter-widgets/controls",
      "model_module_version": "2.0.0",
      "model_name": "HBoxModel",
      "state": {
       "children": [
        "IPY_MODEL_f7f3406b9906443e854edb874cdb24b7",
        "IPY_MODEL_9e49c828e0cc4afbb36654cfe87cc4f5",
        "IPY_MODEL_fc282e0a70734f2e91b79b35e78c90f3",
        "IPY_MODEL_61eba60b5c844e90aacdf7af4d30b649",
        "IPY_MODEL_e7e95c71e6ed418a91fae47b9b103df4"
       ],
       "layout": "IPY_MODEL_efa9ed72317b4013a327d77dd3f23cd2"
      }
     },
     "b9a0b113b0964cab81566ad5756a5ab2": {
      "model_module": "@jupyter-widgets/controls",
      "model_module_version": "2.0.0",
      "model_name": "HTMLStyleModel",
      "state": {
       "description_width": "",
       "font_size": null,
       "text_color": null
      }
     },
     "ba3095365aca43a383513642f48ec155": {
      "model_module": "@jupyter-widgets/base",
      "model_module_version": "2.0.0",
      "model_name": "LayoutModel",
      "state": {
       "width": "95px"
      }
     },
     "bbb86dcdb5a94ac2b14badece8fb35c3": {
      "model_module": "@jupyter-widgets/controls",
      "model_module_version": "2.0.0",
      "model_name": "HTMLModel",
      "state": {
       "layout": "IPY_MODEL_5e35152eff96482e89571440b7fc476b",
       "style": "IPY_MODEL_a1216c02299b4462a9d8b9aeed2f1fb0",
       "value": "ibmq_qasm_simulator"
      }
     },
     "bda392025b6c446f981881e9cb1c89d1": {
      "model_module": "@jupyter-widgets/controls",
      "model_module_version": "2.0.0",
      "model_name": "HTMLStyleModel",
      "state": {
       "description_width": "",
       "font_size": null,
       "text_color": null
      }
     },
     "c2584f765a2740ac9e2988d4ffc93dd9": {
      "model_module": "@jupyter-widgets/controls",
      "model_module_version": "2.0.0",
      "model_name": "HTMLModel",
      "state": {
       "layout": "IPY_MODEL_ba3095365aca43a383513642f48ec155",
       "style": "IPY_MODEL_fcf1362d232d4a298962157e71495e04",
       "value": "<font style='color:#34BC6E'>DONE</font>"
      }
     },
     "c48ad9a2f8994cf9ac86340a289fabe7": {
      "model_module": "@jupyter-widgets/controls",
      "model_module_version": "2.0.0",
      "model_name": "HTMLModel",
      "state": {
       "layout": "IPY_MODEL_cc5488b0e022483ab90431670b2e9d5b",
       "style": "IPY_MODEL_f7974529e2524d1ea521445d6028575e",
       "value": "ibmq_qasm_simulator"
      }
     },
     "c971d5b621914b4db11b9f5fadd54640": {
      "model_module": "@jupyter-widgets/base",
      "model_module_version": "2.0.0",
      "model_name": "LayoutModel",
      "state": {
       "width": "145px"
      }
     },
     "cbd0f72e0b1d49909ede85adb4f1dfd8": {
      "model_module": "@jupyter-widgets/base",
      "model_module_version": "2.0.0",
      "model_name": "LayoutModel",
      "state": {}
     },
     "cc5488b0e022483ab90431670b2e9d5b": {
      "model_module": "@jupyter-widgets/base",
      "model_module_version": "2.0.0",
      "model_name": "LayoutModel",
      "state": {
       "width": "145px"
      }
     },
     "cff65c3745bd4a5dbc1c6618e61ee56a": {
      "model_module": "@jupyter-widgets/controls",
      "model_module_version": "2.0.0",
      "model_name": "ButtonStyleModel",
      "state": {
       "button_color": "white",
       "font_family": null,
       "font_size": null,
       "font_style": null,
       "font_variant": null,
       "font_weight": null,
       "text_color": null,
       "text_decoration": null
      }
     },
     "d3aa4650fb9246cb9b27a778a2197a7b": {
      "model_module": "@jupyter-widgets/base",
      "model_module_version": "2.0.0",
      "model_name": "LayoutModel",
      "state": {
       "width": "95px"
      }
     },
     "d4b8ee7daf7e4cc8aad84bffe67ee65c": {
      "model_module": "@jupyter-widgets/base",
      "model_module_version": "2.0.0",
      "model_name": "LayoutModel",
      "state": {
       "margin": "0px 5px 0px 0px",
       "width": "32px"
      }
     },
     "d9510f49f5a54b7e8ad15eed693db9ba": {
      "model_module": "@jupyter-widgets/base",
      "model_module_version": "2.0.0",
      "model_name": "LayoutModel",
      "state": {
       "width": "190px"
      }
     },
     "e0669e9ee2da4b00ab7cfe2aa8cbf375": {
      "model_module": "@jupyter-widgets/controls",
      "model_module_version": "2.0.0",
      "model_name": "HTMLStyleModel",
      "state": {
       "description_width": "",
       "font_size": null,
       "text_color": null
      }
     },
     "e1b460cacfa14c2fa501c33b9955a80f": {
      "model_module": "@jupyter-widgets/controls",
      "model_module_version": "2.0.0",
      "model_name": "HBoxModel",
      "state": {
       "children": [
        "IPY_MODEL_0e138831c8c44ec3b61ea4727bebca87",
        "IPY_MODEL_8c657793adbc4d43a0e50e0384fed12d",
        "IPY_MODEL_bbb86dcdb5a94ac2b14badece8fb35c3",
        "IPY_MODEL_c2584f765a2740ac9e2988d4ffc93dd9",
        "IPY_MODEL_6df0ea8abd6f45f294b76f38b7e7a424",
        "IPY_MODEL_5fe3e93a0ee24669b586de2f62586ef3"
       ],
       "layout": "IPY_MODEL_5ae2d34ad119406fa892893c346daa63"
      }
     },
     "e7e95c71e6ed418a91fae47b9b103df4": {
      "model_module": "@jupyter-widgets/controls",
      "model_module_version": "2.0.0",
      "model_name": "HTMLModel",
      "state": {
       "layout": "IPY_MODEL_cbd0f72e0b1d49909ede85adb4f1dfd8",
       "style": "IPY_MODEL_bda392025b6c446f981881e9cb1c89d1",
       "value": "<h5>Message</h5>"
      }
     },
     "eb3e2744a2f543f2816791443092eea8": {
      "model_module": "@jupyter-widgets/controls",
      "model_module_version": "2.0.0",
      "model_name": "GridBoxModel",
      "state": {
       "children": [
        "IPY_MODEL_702a8ccf04314bfc86e92a1a883d6cf2"
       ],
       "layout": "IPY_MODEL_a9337111d3cc4f9fa67ba5413cf36076"
      }
     },
     "efa9ed72317b4013a327d77dd3f23cd2": {
      "model_module": "@jupyter-widgets/base",
      "model_module_version": "2.0.0",
      "model_name": "LayoutModel",
      "state": {
       "margin": "0px 0px 0px 37px",
       "width": "600px"
      }
     },
     "f24d9da63862476d898cd7870f6941f9": {
      "model_module": "@jupyter-widgets/base",
      "model_module_version": "2.0.0",
      "model_name": "LayoutModel",
      "state": {
       "max_width": "700px",
       "min_width": "700px"
      }
     },
     "f7974529e2524d1ea521445d6028575e": {
      "model_module": "@jupyter-widgets/controls",
      "model_module_version": "2.0.0",
      "model_name": "HTMLStyleModel",
      "state": {
       "description_width": "",
       "font_size": null,
       "text_color": null
      }
     },
     "f7f3406b9906443e854edb874cdb24b7": {
      "model_module": "@jupyter-widgets/controls",
      "model_module_version": "2.0.0",
      "model_name": "HTMLModel",
      "state": {
       "layout": "IPY_MODEL_a46183ebb32040519038dc5f17dc470e",
       "style": "IPY_MODEL_52f9db20224e4d918a3739518b028680",
       "value": "<h5>Job ID</h5>"
      }
     },
     "fc282e0a70734f2e91b79b35e78c90f3": {
      "model_module": "@jupyter-widgets/controls",
      "model_module_version": "2.0.0",
      "model_name": "HTMLModel",
      "state": {
       "layout": "IPY_MODEL_d3aa4650fb9246cb9b27a778a2197a7b",
       "style": "IPY_MODEL_e0669e9ee2da4b00ab7cfe2aa8cbf375",
       "value": "<h5>Status</h5>"
      }
     },
     "fca0644e71004c29ade07ba156055fe1": {
      "model_module": "@jupyter-widgets/base",
      "model_module_version": "2.0.0",
      "model_name": "LayoutModel",
      "state": {
       "width": "95px"
      }
     },
     "fcf1362d232d4a298962157e71495e04": {
      "model_module": "@jupyter-widgets/controls",
      "model_module_version": "2.0.0",
      "model_name": "HTMLStyleModel",
      "state": {
       "description_width": "",
       "font_size": null,
       "text_color": null
      }
     },
     "fd3b215acaa34a98843d957893ef224b": {
      "model_module": "@jupyter-widgets/controls",
      "model_module_version": "2.0.0",
      "model_name": "HTMLModel",
      "state": {
       "layout": "IPY_MODEL_d9510f49f5a54b7e8ad15eed693db9ba",
       "style": "IPY_MODEL_7972c14ee1614af8ab97a9106e6340c3",
       "value": "cklvgcst62097g99d7c0"
      }
     }
    },
    "version_major": 2,
    "version_minor": 0
   }
  }
 },
 "nbformat": 4,
 "nbformat_minor": 5
}
