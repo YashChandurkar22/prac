{
 "cells": [
  {
   "cell_type": "code",
   "execution_count": 1,
   "id": "1a4498d7-e571-4767-b41e-be93aaf86a0c",
   "metadata": {
    "tags": []
   },
   "outputs": [],
   "source": [
    "from qiskit import QuantumCircuit, transpile\n",
    "from qiskit.tools.jupyter import *\n",
    "from qiskit.visualization import *\n",
    "from ibm_quantum_widgets import *\n",
    "from qiskit_ibm_runtime import QiskitRuntimeService, Sampler, Estimator, Session, Options\n",
    "\n",
    "service = QiskitRuntimeService(channel=\"ibm_quantum\")\n"
   ]
  },
  {
   "cell_type": "code",
   "execution_count": 2,
   "id": "8048f5f3-8cf6-4c0f-b841-bd314b4734af",
   "metadata": {
    "tags": []
   },
   "outputs": [
    {
     "name": "stdout",
     "output_type": "stream",
     "text": [
      "      ┌───┐┌─┐                                             \n",
      " q_0: ┤ H ├┤M├─────────────────────────────────────────────\n",
      "      ├───┤└╥┘┌─┐                                          \n",
      " q_1: ┤ H ├─╫─┤M├──────────────────────────────────────────\n",
      "      ├───┤ ║ └╥┘┌─┐                                       \n",
      " q_2: ┤ H ├─╫──╫─┤M├───────────────────────────────────────\n",
      "      ├───┤ ║  ║ └╥┘┌─┐                                    \n",
      " q_3: ┤ H ├─╫──╫──╫─┤M├────────────────────────────────────\n",
      "      ├───┤ ║  ║  ║ └╥┘┌─┐                                 \n",
      " q_4: ┤ H ├─╫──╫──╫──╫─┤M├─────────────────────────────────\n",
      "      ├───┤ ║  ║  ║  ║ └╥┘┌─┐                              \n",
      " q_5: ┤ H ├─╫──╫──╫──╫──╫─┤M├──────────────────────────────\n",
      "      ├───┤ ║  ║  ║  ║  ║ └╥┘┌─┐                           \n",
      " q_6: ┤ H ├─╫──╫──╫──╫──╫──╫─┤M├───────────────────────────\n",
      "      ├───┤ ║  ║  ║  ║  ║  ║ └╥┘┌─┐                        \n",
      " q_7: ┤ H ├─╫──╫──╫──╫──╫──╫──╫─┤M├────────────────────────\n",
      "      ├───┤ ║  ║  ║  ║  ║  ║  ║ └╥┘┌─┐                     \n",
      " q_8: ┤ H ├─╫──╫──╫──╫──╫──╫──╫──╫─┤M├─────────────────────\n",
      "      ├───┤ ║  ║  ║  ║  ║  ║  ║  ║ └╥┘┌─┐                  \n",
      " q_9: ┤ H ├─╫──╫──╫──╫──╫──╫──╫──╫──╫─┤M├──────────────────\n",
      "      ├───┤ ║  ║  ║  ║  ║  ║  ║  ║  ║ └╥┘┌─┐               \n",
      "q_10: ┤ H ├─╫──╫──╫──╫──╫──╫──╫──╫──╫──╫─┤M├───────────────\n",
      "      ├───┤ ║  ║  ║  ║  ║  ║  ║  ║  ║  ║ └╥┘┌─┐            \n",
      "q_11: ┤ H ├─╫──╫──╫──╫──╫──╫──╫──╫──╫──╫──╫─┤M├────────────\n",
      "      ├───┤ ║  ║  ║  ║  ║  ║  ║  ║  ║  ║  ║ └╥┘┌─┐         \n",
      "q_12: ┤ H ├─╫──╫──╫──╫──╫──╫──╫──╫──╫──╫──╫──╫─┤M├─────────\n",
      "      ├───┤ ║  ║  ║  ║  ║  ║  ║  ║  ║  ║  ║  ║ └╥┘┌─┐      \n",
      "q_13: ┤ H ├─╫──╫──╫──╫──╫──╫──╫──╫──╫──╫──╫──╫──╫─┤M├──────\n",
      "      ├───┤ ║  ║  ║  ║  ║  ║  ║  ║  ║  ║  ║  ║  ║ └╥┘┌─┐   \n",
      "q_14: ┤ H ├─╫──╫──╫──╫──╫──╫──╫──╫──╫──╫──╫──╫──╫──╫─┤M├───\n",
      "      ├───┤ ║  ║  ║  ║  ║  ║  ║  ║  ║  ║  ║  ║  ║  ║ └╥┘┌─┐\n",
      "q_15: ┤ H ├─╫──╫──╫──╫──╫──╫──╫──╫──╫──╫──╫──╫──╫──╫──╫─┤M├\n",
      "      └───┘ ║  ║  ║  ║  ║  ║  ║  ║  ║  ║  ║  ║  ║  ║  ║ └╥┘\n",
      "c: 16/══════╩══╩══╩══╩══╩══╩══╩══╩══╩══╩══╩══╩══╩══╩══╩══╩═\n",
      "            0  1  2  3  4  5  6  7  8  9  10 11 12 13 14 15\n",
      "Random number (decimal): 52700\n",
      "Random number (binary): 1100110111011100\n"
     ]
    }
   ],
   "source": [
    "\n",
    "from qiskit import QuantumCircuit, Aer, execute\n",
    "from qiskit.visualization import circuit_drawer\n",
    "\n",
    "circuit = QuantumCircuit(16, 16)\n",
    "\n",
    "circuit.h(range(16))\n",
    "\n",
    "circuit.measure(range(16), range(16))\n",
    "\n",
    "print(circuit)\n",
    "circuit_drawer(circuit, output='mpl')\n",
    "\n",
    "simulator = Aer.get_backend('qasm_simulator')\n",
    "job = execute(circuit, simulator, shots=1)\n",
    "result = job.result()\n",
    "counts = result.get_counts(circuit)\n",
    "\n",
    "random_number = int(list(counts.keys())[0], 2)\n",
    "\n",
    "binary_number = bin(random_number)[2:].zfill(16)\n",
    "\n",
    "print(\"Random number (decimal):\", random_number)\n",
    "print(\"Random number (binary):\", binary_number)\n"
   ]
  },
  {
   "cell_type": "code",
   "execution_count": null,
   "id": "22eb32a5-4516-4ecc-a9ff-061c24f740e9",
   "metadata": {},
   "outputs": [],
   "source": []
  }
 ],
 "metadata": {
  "kernelspec": {
   "display_name": "Python 3 (ipykernel)",
   "language": "python",
   "name": "python3"
  },
  "language_info": {
   "codemirror_mode": {
    "name": "ipython",
    "version": 3
   },
   "file_extension": ".py",
   "mimetype": "text/x-python",
   "name": "python",
   "nbconvert_exporter": "python",
   "pygments_lexer": "ipython3",
   "version": "3.10.8"
  },
  "widgets": {
   "application/vnd.jupyter.widget-state+json": {
    "state": {
     "06df23335aba47d48a35412a9cde1e73": {
      "model_module": "@jupyter-widgets/controls",
      "model_module_version": "2.0.0",
      "model_name": "HTMLModel",
      "state": {
       "layout": "IPY_MODEL_213b806c862c4dd082336283b520351d",
       "style": "IPY_MODEL_bb7c6eddd426451b9336000c9d112b72",
       "value": "<p style='font-family: IBM Plex Sans, Arial, Helvetica, sans-serif; font-size: 20px; font-weight: medium;'>Circuit Properties</p>"
      }
     },
     "213b806c862c4dd082336283b520351d": {
      "model_module": "@jupyter-widgets/base",
      "model_module_version": "2.0.0",
      "model_name": "LayoutModel",
      "state": {
       "margin": "0px 0px 10px 0px"
      }
     },
     "28b04eb8cff2413a8c6192290de79bd3": {
      "model_module": "@jupyter-widgets/controls",
      "model_module_version": "2.0.0",
      "model_name": "HTMLStyleModel",
      "state": {
       "description_width": "",
       "font_size": null,
       "text_color": null
      }
     },
     "4506a1afaa3a4ebc9802cfac59386b5f": {
      "model_module": "@jupyter-widgets/controls",
      "model_module_version": "2.0.0",
      "model_name": "HTMLModel",
      "state": {
       "layout": "IPY_MODEL_fa9038380c0c484383ab89a7e3dbf0de",
       "style": "IPY_MODEL_b389ae4ae5b8488ebad75335fa93eef9",
       "value": "<h5>Status</h5>"
      }
     },
     "545a16e9eb31411fa43b18649b0af4ef": {
      "model_module": "@jupyter-widgets/controls",
      "model_module_version": "2.0.0",
      "model_name": "HTMLModel",
      "state": {
       "layout": "IPY_MODEL_931a8503fe364e578a4245c5b3f83e0e",
       "style": "IPY_MODEL_7107b253f1c74b6c84530f52b7c0a767",
       "value": "<h5>Queue</h5>"
      }
     },
     "55d43ae267d44372ab1b450513e6e812": {
      "model_module": "@jupyter-widgets/base",
      "model_module_version": "2.0.0",
      "model_name": "LayoutModel",
      "state": {
       "grid_area": "right",
       "padding": "0px 0px 0px 0px",
       "width": "70px"
      }
     },
     "613fbb5db0d4487380cd00dc5c7b2586": {
      "model_module": "@jupyter-widgets/controls",
      "model_module_version": "2.0.0",
      "model_name": "HTMLStyleModel",
      "state": {
       "description_width": "",
       "font_size": null,
       "text_color": null
      }
     },
     "7107b253f1c74b6c84530f52b7c0a767": {
      "model_module": "@jupyter-widgets/controls",
      "model_module_version": "2.0.0",
      "model_name": "HTMLStyleModel",
      "state": {
       "description_width": "",
       "font_size": null,
       "text_color": null
      }
     },
     "7438de92964849438e27d4db2b536ea4": {
      "model_module": "@jupyter-widgets/controls",
      "model_module_version": "2.0.0",
      "model_name": "HTMLModel",
      "state": {
       "layout": "IPY_MODEL_f793c43b52dc4d5bb2d364b4c5192d8b",
       "style": "IPY_MODEL_28b04eb8cff2413a8c6192290de79bd3",
       "value": "<h5>Job ID</h5>"
      }
     },
     "8121155cde0e49a3ae6d04d7a843b9b0": {
      "model_module": "@jupyter-widgets/base",
      "model_module_version": "2.0.0",
      "model_name": "LayoutModel",
      "state": {
       "grid_template_areas": "\n                                       \". . . . right \"\n                                        ",
       "grid_template_columns": "20% 20% 20% 20% 20%",
       "width": "100%"
      }
     },
     "8cf84f453ae44429bc82873bba703f45": {
      "model_module": "@jupyter-widgets/base",
      "model_module_version": "2.0.0",
      "model_name": "LayoutModel",
      "state": {
       "width": "145px"
      }
     },
     "912f1101981e4d8e928da3eaf7650d7e": {
      "model_module": "@jupyter-widgets/controls",
      "model_module_version": "2.0.0",
      "model_name": "HTMLModel",
      "state": {
       "layout": "IPY_MODEL_bd3c04a743334d37b281f10682cd9efb",
       "style": "IPY_MODEL_613fbb5db0d4487380cd00dc5c7b2586",
       "value": "<h5>Message</h5>"
      }
     },
     "931a8503fe364e578a4245c5b3f83e0e": {
      "model_module": "@jupyter-widgets/base",
      "model_module_version": "2.0.0",
      "model_name": "LayoutModel",
      "state": {
       "width": "70px"
      }
     },
     "ac47bc1306184e7c948e8fc4c851f822": {
      "model_module": "@jupyter-widgets/controls",
      "model_module_version": "2.0.0",
      "model_name": "HTMLStyleModel",
      "state": {
       "description_width": "",
       "font_size": null,
       "text_color": null
      }
     },
     "b389ae4ae5b8488ebad75335fa93eef9": {
      "model_module": "@jupyter-widgets/controls",
      "model_module_version": "2.0.0",
      "model_name": "HTMLStyleModel",
      "state": {
       "description_width": "",
       "font_size": null,
       "text_color": null
      }
     },
     "b7d0d8fff12d4e038281f3440f46ebbd": {
      "model_module": "@jupyter-widgets/controls",
      "model_module_version": "2.0.0",
      "model_name": "ButtonModel",
      "state": {
       "button_style": "primary",
       "description": "Clear",
       "layout": "IPY_MODEL_55d43ae267d44372ab1b450513e6e812",
       "style": "IPY_MODEL_ff439b6ef8fb44bea637cf6bef05ba1e",
       "tooltip": null
      }
     },
     "b87a637974d94b39917f98d83f4451dd": {
      "model_module": "@jupyter-widgets/controls",
      "model_module_version": "2.0.0",
      "model_name": "HBoxModel",
      "state": {
       "children": [
        "IPY_MODEL_7438de92964849438e27d4db2b536ea4",
        "IPY_MODEL_e2340c3741d14ad491c27986c2a2e55e",
        "IPY_MODEL_4506a1afaa3a4ebc9802cfac59386b5f",
        "IPY_MODEL_545a16e9eb31411fa43b18649b0af4ef",
        "IPY_MODEL_912f1101981e4d8e928da3eaf7650d7e"
       ],
       "layout": "IPY_MODEL_ee00996f80fd4bc0b11cc2ddd55df1ba"
      }
     },
     "bb7c6eddd426451b9336000c9d112b72": {
      "model_module": "@jupyter-widgets/controls",
      "model_module_version": "2.0.0",
      "model_name": "HTMLStyleModel",
      "state": {
       "description_width": "",
       "font_size": null,
       "text_color": null
      }
     },
     "bd3c04a743334d37b281f10682cd9efb": {
      "model_module": "@jupyter-widgets/base",
      "model_module_version": "2.0.0",
      "model_name": "LayoutModel",
      "state": {}
     },
     "e2340c3741d14ad491c27986c2a2e55e": {
      "model_module": "@jupyter-widgets/controls",
      "model_module_version": "2.0.0",
      "model_name": "HTMLModel",
      "state": {
       "layout": "IPY_MODEL_8cf84f453ae44429bc82873bba703f45",
       "style": "IPY_MODEL_ac47bc1306184e7c948e8fc4c851f822",
       "value": "<h5>Backend</h5>"
      }
     },
     "ee00996f80fd4bc0b11cc2ddd55df1ba": {
      "model_module": "@jupyter-widgets/base",
      "model_module_version": "2.0.0",
      "model_name": "LayoutModel",
      "state": {
       "margin": "0px 0px 0px 37px",
       "width": "600px"
      }
     },
     "f793c43b52dc4d5bb2d364b4c5192d8b": {
      "model_module": "@jupyter-widgets/base",
      "model_module_version": "2.0.0",
      "model_name": "LayoutModel",
      "state": {
       "width": "190px"
      }
     },
     "fa9038380c0c484383ab89a7e3dbf0de": {
      "model_module": "@jupyter-widgets/base",
      "model_module_version": "2.0.0",
      "model_name": "LayoutModel",
      "state": {
       "width": "95px"
      }
     },
     "ff439b6ef8fb44bea637cf6bef05ba1e": {
      "model_module": "@jupyter-widgets/controls",
      "model_module_version": "2.0.0",
      "model_name": "ButtonStyleModel",
      "state": {
       "font_family": null,
       "font_size": null,
       "font_style": null,
       "font_variant": null,
       "font_weight": null,
       "text_color": null,
       "text_decoration": null
      }
     },
     "ffcf7d89dc064ec8b6e27c55c95e855a": {
      "model_module": "@jupyter-widgets/controls",
      "model_module_version": "2.0.0",
      "model_name": "GridBoxModel",
      "state": {
       "children": [
        "IPY_MODEL_b7d0d8fff12d4e038281f3440f46ebbd"
       ],
       "layout": "IPY_MODEL_8121155cde0e49a3ae6d04d7a843b9b0"
      }
     }
    },
    "version_major": 2,
    "version_minor": 0
   }
  }
 },
 "nbformat": 4,
 "nbformat_minor": 5
}
