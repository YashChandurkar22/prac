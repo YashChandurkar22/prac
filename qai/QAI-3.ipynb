{
 "cells": [
  {
   "cell_type": "code",
   "execution_count": 5,
   "id": "ce257aa2-3836-453e-95da-a72e6fd4ba67",
   "metadata": {
    "tags": []
   },
   "outputs": [
    {
     "name": "stdout",
     "output_type": "stream",
     "text": [
      "Solution found!\n",
      "000\n",
      "000\n",
      "000\n"
     ]
    }
   ],
   "source": [
    "from qiskit import QuantumCircuit, Aer, execute\n",
    "from qiskit.visualization import plot_histogram\n",
    "\n",
    "# Define the initial state\n",
    "initial_state = [2, 5, 3, 1, 8, 6, 4, 7, None]\n",
    "\n",
    "# Define the goal state\n",
    "goal_state = [1, 2, 3, 4, 5, 6, 7, 8, None]\n",
    "\n",
    "# Define the quantum circuit\n",
    "qc = QuantumCircuit(18, 18)\n",
    "\n",
    "# Initialize the circuit with the initial state\n",
    "for i, tile in enumerate(initial_state):\n",
    "    if tile is not None:\n",
    "        qc.x(i)\n",
    "\n",
    "# Perform swaps to reach the goal state\n",
    "for i, tile in enumerate(goal_state):\n",
    "    if tile is not None:\n",
    "        initial_index = initial_state.index(tile)\n",
    "        target_index = goal_state.index(tile)\n",
    "        qc.swap(i, initial_index + 9)\n",
    "        qc.swap(i, target_index + 9)\n",
    "\n",
    "# Measure the final state\n",
    "qc.measure(range(9), range(9))\n",
    "\n",
    "# Simulate the circuit\n",
    "backend = Aer.get_backend('qasm_simulator')\n",
    "job = execute(qc, backend, shots=1024)\n",
    "result = job.result()\n",
    "counts = result.get_counts(qc)\n",
    "\n",
    "# Find the most probable state (solution)\n",
    "max_count = max(counts.values())\n",
    "solution = [state for state, count in counts.items() if count == max_count][0]\n",
    "\n",
    "# Print the solution\n",
    "print(\"Solution found!\")\n",
    "for i in range(0, 9, 3):\n",
    "    print(solution[i:i + 3])\n"
   ]
  },
  {
   "cell_type": "code",
   "execution_count": 6,
   "id": "ecf1b63d-91f3-46aa-8775-9d1488af0580",
   "metadata": {
    "tags": []
   },
   "outputs": [
    {
     "name": "stdout",
     "output_type": "stream",
     "text": [
      "Coin Flip Results:\n",
      "0: 499 (49.90%)\n",
      "1: 501 (50.10%)\n"
     ]
    }
   ],
   "source": [
    "from qiskit import Aer, execute, QuantumCircuit\n",
    "\n",
    "# Define the quantum circuit\n",
    "qc = QuantumCircuit(1, 1)\n",
    "qc.h(0)  # Apply Hadamard gate for superposition\n",
    "qc.measure(0, 0)  # Measure qubit and store result in classical bit\n",
    "\n",
    "# Use the Aer simulator\n",
    "simulator = Aer.get_backend('qasm_simulator')\n",
    "\n",
    "# Set the number of shots (measurements)\n",
    "num_shots = 1000\n",
    "\n",
    "# Execute the quantum circuit on the simulator with multiple shots\n",
    "job = execute(qc, simulator, shots=num_shots)\n",
    "\n",
    "# Get the result of the measurements\n",
    "result = job.result()\n",
    "counts = result.get_counts()\n",
    "\n",
    "# Print the coin flip results\n",
    "print(\"Coin Flip Results:\")\n",
    "for outcome, count in counts.items():\n",
    "    print(f\"{outcome}: {count} ({count/num_shots*100:.2f}%)\")\n"
   ]
  },
  {
   "cell_type": "code",
   "execution_count": 7,
   "id": "d580e3dc-56d1-46b8-ab58-a78696150e9e",
   "metadata": {
    "tags": []
   },
   "outputs": [
    {
     "name": "stdout",
     "output_type": "stream",
     "text": [
      "Coin Flip Results:\n",
      "1: 498 (49.80%)\n",
      "0: 502 (50.20%)\n"
     ]
    }
   ],
   "source": [
    "from qiskit import Aer, execute, QuantumCircuit\n",
    "\n",
    "# Define the quantum circuit\n",
    "qc = QuantumCircuit(1, 1)\n",
    "qc.h(0)  # Apply Hadamard gate for superposition\n",
    "qc.measure(0, 0)  # Measure qubit and store result in classical bit\n",
    "\n",
    "# Use the Aer simulator\n",
    "simulator = Aer.get_backend('qasm_simulator')\n",
    "\n",
    "# Set the number of shots (measurements)\n",
    "num_shots = 1000\n",
    "\n",
    "# Execute the quantum circuit on the simulator with multiple shots\n",
    "job = execute(qc, simulator, shots=num_shots)\n",
    "\n",
    "# Get the result of the measurements\n",
    "result = job.result()\n",
    "counts = result.get_counts()\n",
    "\n",
    "# Print the coin flip results\n",
    "print(\"Coin Flip Results:\")\n",
    "for outcome, count in counts.items():\n",
    "    print(f\"{outcome}: {count} ({count/num_shots*100:.2f}%)\")\n"
   ]
  },
  {
   "cell_type": "code",
   "execution_count": 8,
   "id": "59b25f3e-7394-4129-b528-5d59aaa6d980",
   "metadata": {
    "tags": []
   },
   "outputs": [
    {
     "data": {
      "image/png": "[encoded data removed]",
      "text/plain": [
       "<Figure size 640x480 with 1 Axes>"
      ]
     },
     "metadata": {},
     "output_type": "display_data"
    }
   ],
   "source": [
    "import matplotlib.pyplot as plt\n",
    "from qiskit import Aer, execute, QuantumCircuit\n",
    "\n",
    "# Define the quantum circuit\n",
    "qc = QuantumCircuit(1, 1)\n",
    "qc.h(0)  # Apply Hadamard gate for superposition\n",
    "qc.measure(0, 0)  # Measure qubit and store result in classical bit\n",
    "\n",
    "# Use the Aer simulator\n",
    "simulator = Aer.get_backend('qasm_simulator')\n",
    "\n",
    "# Set the number of shots (measurements)\n",
    "num_shots = 1000\n",
    "\n",
    "# Execute the quantum circuit on the simulator with multiple shots\n",
    "job = execute(qc, simulator, shots=num_shots)\n",
    "\n",
    "# Get the result of the measurements\n",
    "result = job.result()\n",
    "counts = result.get_counts()\n",
    "\n",
    "# Plot the coin flip results\n",
    "outcomes = list(counts.keys())\n",
    "counts_list = list(counts.values())\n",
    "\n",
    "plt.bar(outcomes, counts_list)\n",
    "plt.xlabel('Outcome')\n",
    "plt.ylabel('Counts')\n",
    "plt.title('Coin Flip Results')\n",
    "plt.show()\n"
   ]
  },
  {
   "cell_type": "code",
   "execution_count": null,
   "id": "7853b5b7-3bb2-4318-9472-0621fe447458",
   "metadata": {},
   "outputs": [],
   "source": []
  }
 ],
 "metadata": {
  "kernelspec": {
   "display_name": "Python 3 (ipykernel)",
   "language": "python",
   "name": "python3"
  },
  "language_info": {
   "codemirror_mode": {
    "name": "ipython",
    "version": 3
   },
   "file_extension": ".py",
   "mimetype": "text/x-python",
   "name": "python",
   "nbconvert_exporter": "python",
   "pygments_lexer": "ipython3",
   "version": "3.10.8"
  },
  "widgets": {
   "application/vnd.jupyter.widget-state+json": {
    "state": {},
    "version_major": 2,
    "version_minor": 0
   }
  }
 },
 "nbformat": 4,
 "nbformat_minor": 5
}
