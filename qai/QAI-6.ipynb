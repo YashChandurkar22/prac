{
 "cells": [
  {
   "cell_type": "code",
   "execution_count": 14,
   "id": "8ce93c25-e8ca-4406-9821-b9ff8b0b29f6",
   "metadata": {
    "tags": []
   },
   "outputs": [
    {
     "name": "stderr",
     "output_type": "stream",
     "text": [
      "ibmqfactory.load_account:WARNING:2023-10-15 15:12:39,889: Credentials are already in use. The existing account in the session will be replaced.\n"
     ]
    },
    {
     "name": "stdout",
     "output_type": "stream",
     "text": [
      "     ┌───┐┌──────┐┌─┐            \n",
      "q_0: ┤ X ├┤0     ├┤M├────────────\n",
      "     └───┘│      │└╥┘┌─┐         \n",
      "q_1: ─────┤1     ├─╫─┤M├─────────\n",
      "     ┌───┐│      │ ║ └╥┘┌─┐      \n",
      "q_2: ┤ X ├┤2 qft ├─╫──╫─┤M├──────\n",
      "     └───┘│      │ ║  ║ └╥┘┌─┐   \n",
      "q_3: ─────┤3     ├─╫──╫──╫─┤M├───\n",
      "     ┌───┐│      │ ║  ║  ║ └╥┘┌─┐\n",
      "q_4: ┤ X ├┤4     ├─╫──╫──╫──╫─┤M├\n",
      "     └───┘└──────┘ ║  ║  ║  ║ └╥┘\n",
      "c: 5/══════════════╩══╩══╩══╩══╩═\n",
      "                   0  1  2  3  4 \n"
     ]
    }
   ],
   "source": [
    "from qiskit import QuantumRegister, ClassicalRegister\n",
    "from qiskit import QuantumCircuit, execute,IBMQ\n",
    "from qiskit.tools.monitor import job_monitor\n",
    "from qiskit.circuit.library import QFT\n",
    "import numpy as np\n",
    "from qiskit import IBMQ\n",
    "\n",
    "# Load your IBM Quantum account(s)\n",
    "\n",
    "\n",
    "pi = np.pi\n",
    "\n",
    "IBMQ.load_account()\n",
    "provider = IBMQ.get_provider(hub='ibm-q')\n",
    "\n",
    "backend = provider.get_backend('ibmq_qasm_simulator')\n",
    "\n",
    "q = QuantumRegister(5,'q')\n",
    "c = ClassicalRegister(5,'c')\n",
    "\n",
    "circuit = QuantumCircuit(q,c)\n",
    "\n",
    "circuit.x(q[4])\n",
    "circuit.x(q[2])\n",
    "circuit.x(q[0])\n",
    "circuit.append(QFT(num_qubits=5, approximation_degree=0, do_swaps=True, inverse=False, insert_barriers=False, name='qft'),q)\n",
    "circuit.measure(q,c)\n",
    "circuit.draw(output='mpl', filename='qft1.png')\n",
    "print(circuit)\n",
    "\n"
   ]
  },
  {
   "cell_type": "code",
   "execution_count": 15,
   "id": "c784d908-130e-48ed-9cb6-1d5105594b9f",
   "metadata": {
    "tags": []
   },
   "outputs": [
    {
     "name": "stdout",
     "output_type": "stream",
     "text": [
      "Job Status: job has successfully run\n",
      "\n",
      " QFT Output\n",
      "-------------\n",
      "{'01111': 33, '10011': 30, '01110': 36, '00010': 44, '11000': 32, '10111': 35, '01001': 22, '00101': 29, '11001': 35, '11101': 30, '10100': 31, '01011': 31, '00000': 28, '00111': 30, '11011': 21, '01000': 36, '11010': 39, '00001': 28, '01101': 34, '00110': 31, '00011': 30, '00100': 29, '11111': 31, '10010': 41, '10110': 36, '10101': 28, '10000': 31, '11100': 29, '11110': 31, '01100': 27, '01010': 31, '10001': 21}\n"
     ]
    },
    {
     "name": "stdin",
     "output_type": "stream",
     "text": [
      " 1 2 6\n"
     ]
    },
    {
     "data": {
      "text/plain": [
       "'1 2 6'"
      ]
     },
     "execution_count": 15,
     "metadata": {},
     "output_type": "execute_result"
    }
   ],
   "source": [
    "job = execute(circuit, backend, shots=1000)\n",
    "\n",
    "job_monitor(job)\n",
    "\n",
    "counts = job.result().get_counts()\n",
    "\n",
    "print(\"\\n QFT Output\")\n",
    "print(\"-------------\")\n",
    "print(counts)\n",
    "input()\n",
    "\n"
   ]
  },
  {
   "cell_type": "code",
   "execution_count": 16,
   "id": "80f9b7bb-27a3-4ab7-85a6-eb7e237bc82d",
   "metadata": {
    "tags": []
   },
   "outputs": [
    {
     "name": "stdout",
     "output_type": "stream",
     "text": [
      "     ┌───┐┌──────┐┌──────┐┌─┐            \n",
      "q_0: ┤ X ├┤0     ├┤0     ├┤M├────────────\n",
      "     └───┘│      ││      │└╥┘┌─┐         \n",
      "q_1: ─────┤1     ├┤1     ├─╫─┤M├─────────\n",
      "     ┌───┐│      ││      │ ║ └╥┘┌─┐      \n",
      "q_2: ┤ X ├┤2 qft ├┤2 qft ├─╫──╫─┤M├──────\n",
      "     └───┘│      ││      │ ║  ║ └╥┘┌─┐   \n",
      "q_3: ─────┤3     ├┤3     ├─╫──╫──╫─┤M├───\n",
      "     ┌───┐│      ││      │ ║  ║  ║ └╥┘┌─┐\n",
      "q_4: ┤ X ├┤4     ├┤4     ├─╫──╫──╫──╫─┤M├\n",
      "     └───┘└──────┘└──────┘ ║  ║  ║  ║ └╥┘\n",
      "c: 5/══════════════════════╩══╩══╩══╩══╩═\n",
      "                           0  1  2  3  4 \n"
     ]
    }
   ],
   "source": [
    "q = QuantumRegister(5,'q')\n",
    "c = ClassicalRegister(5,'c')\n",
    "\n",
    "circuit = QuantumCircuit(q,c)\n",
    "\n",
    "circuit.x(q[4])\n",
    "circuit.x(q[2])\n",
    "circuit.x(q[0])\n",
    "circuit.append(QFT(num_qubits=5, approximation_degree=0, do_swaps=True, inverse=False, insert_barriers=True, name='qft'),q)\n",
    "circuit.append(QFT(num_qubits=5, approximation_degree=0, do_swaps=True, inverse=True, insert_barriers=True, name='qft'),q)\n",
    "circuit.measure(q,c)\n",
    "circuit.draw(output='mpl',filename='qft2.png')\n",
    "\n",
    "print(circuit)\n",
    "\n"
   ]
  },
  {
   "cell_type": "code",
   "execution_count": 17,
   "id": "225c6230-eb8a-4d92-9f73-219670c211c0",
   "metadata": {
    "tags": []
   },
   "outputs": [
    {
     "name": "stdout",
     "output_type": "stream",
     "text": [
      "Job Status: job has successfully run\n",
      "\n",
      " QFT with inverse QFT Output\n",
      "------------------------------\n",
      "{'10101': 1000}\n"
     ]
    },
    {
     "name": "stdin",
     "output_type": "stream",
     "text": [
      " 4 2 8\n"
     ]
    },
    {
     "data": {
      "text/plain": [
       "'4 2 8'"
      ]
     },
     "execution_count": 17,
     "metadata": {},
     "output_type": "execute_result"
    }
   ],
   "source": [
    "job = execute(circuit, backend, shots=1000)\n",
    "\n",
    "job_monitor(job)\n",
    "\n",
    "counts = job.result().get_counts()\n",
    "\n",
    "print(\"\\n QFT with inverse QFT Output\")\n",
    "print(\"------------------------------\")\n",
    "print(counts)\n",
    "input()"
   ]
  },
  {
   "cell_type": "code",
   "execution_count": null,
   "id": "bbbd09d8-9a69-40bc-ae6c-178836f55670",
   "metadata": {},
   "outputs": [],
   "source": []
  },
  {
   "cell_type": "code",
   "execution_count": null,
   "id": "e266da67-e94e-443f-9622-e0df2a4893e0",
   "metadata": {},
   "outputs": [],
   "source": []
  }
 ],
 "metadata": {
  "kernelspec": {
   "display_name": "Python 3 (ipykernel)",
   "language": "python",
   "name": "python3"
  },
  "language_info": {
   "codemirror_mode": {
    "name": "ipython",
    "version": 3
   },
   "file_extension": ".py",
   "mimetype": "text/x-python",
   "name": "python",
   "nbconvert_exporter": "python",
   "pygments_lexer": "ipython3",
   "version": "3.10.8"
  },
  "widgets": {
   "application/vnd.jupyter.widget-state+json": {
    "state": {},
    "version_major": 2,
    "version_minor": 0
   }
  }
 },
 "nbformat": 4,
 "nbformat_minor": 5
}
